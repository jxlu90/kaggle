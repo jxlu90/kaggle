{
 "cells": [
  {
   "cell_type": "code",
   "execution_count": 1,
   "metadata": {},
   "outputs": [],
   "source": [
    "import pandas as pd\n",
    "import numpy as np\n",
    "\n",
    "import tensorflow as tf\n",
    "from tensorflow import keras\n",
    "from tensorflow.keras import layers\n",
    "\n",
    "import seaborn as sns\n",
    "import matplotlib.pyplot as plt"
   ]
  },
  {
   "cell_type": "code",
   "execution_count": 2,
   "metadata": {},
   "outputs": [],
   "source": [
    "raw_train = pd.read_csv('train.csv')\n",
    "raw_test = pd.read_csv('test.csv')"
   ]
  },
  {
   "cell_type": "code",
   "execution_count": 3,
   "metadata": {},
   "outputs": [
    {
     "data": {
      "image/png": "[encoded data removed]",
      "text/plain": [
       "<Figure size 1152x432 with 9 Axes>"
      ]
     },
     "metadata": {},
     "output_type": "display_data"
    }
   ],
   "source": [
    "## Create a Function for visualization of MNIST dataset\n",
    "def visualize_mnist(pixels, labels, ncol):\n",
    "    n = len(labels)\n",
    "    nrow = (n//ncol + 1)\n",
    "    fig = plt.figure(figsize=(nrow * 4, ncol * 2))\n",
    "    for cnt in range(n):\n",
    "        label = labels[cnt]\n",
    "        pix = np.array(pixels.iloc[cnt,:], dtype='uint8')\n",
    "        pix = pix.reshape((28, 28))\n",
    "        ax1 = fig.add_subplot(nrow, ncol, cnt+1)\n",
    "        ax1.set_title('Label is {label}'.format(label=label))\n",
    "        ax1.imshow(pix, cmap='gray')\n",
    "items = raw_train[:9]\n",
    "visualize_mnist(items.iloc[:, 1:], items.iloc[:, 0], 3)"
   ]
  },
  {
   "cell_type": "code",
   "execution_count": 4,
   "metadata": {},
   "outputs": [
    {
     "name": "stdout",
     "output_type": "stream",
     "text": [
      "(33600, 784) (8400, 784) (33600, 10) (8400, 10)\n"
     ]
    }
   ],
   "source": [
    "from sklearn.model_selection import train_test_split\n",
    "from sklearn.preprocessing import OneHotEncoder\n",
    "\n",
    "XX = np.array(raw_train.iloc[:, 1:])\n",
    "YY_ = np.array(raw_train.iloc[:, 0:1])\n",
    "ohe = OneHotEncoder(sparse=False, categories='auto').fit(YY_)\n",
    "YY = ohe.transform(YY_)\n",
    "Xtrain, Xtest, Ytrain, Ytest = train_test_split(XX, YY, test_size=0.2, random_state=15)\n",
    "print(Xtrain.shape, Xtest.shape, Ytrain.shape, Ytest.shape)"
   ]
  },
  {
   "cell_type": "code",
   "execution_count": 5,
   "metadata": {},
   "outputs": [
    {
     "name": "stdout",
     "output_type": "stream",
     "text": [
      "The training set has [0 1 2 3 4 5 6 7 8 9] numbers with [3332 3764 3355 3512 3248 3000 3305 3493 3262 3329] frequencies\n",
      "The testing set has [0 1 2 3 4 5 6 7 8 9] numbers with [800 920 822 839 824 795 832 908 801 859] frequencies\n"
     ]
    }
   ],
   "source": [
    "uni, cnt = np.unique(ohe.inverse_transform(Ytrain), return_counts=True)\n",
    "print('The training set has %s numbers with %s frequencies'%(uni, cnt))\n",
    "uni, cnt = np.unique(ohe.inverse_transform(Ytest), return_counts=True)\n",
    "print('The testing set has %s numbers with %s frequencies'%(uni, cnt))"
   ]
  },
  {
   "cell_type": "markdown",
   "metadata": {},
   "source": [
    "### Random Forest"
   ]
  },
  {
   "cell_type": "code",
   "execution_count": 33,
   "metadata": {},
   "outputs": [
    {
     "name": "stderr",
     "output_type": "stream",
     "text": [
      "/usr/local/lib/python3.6/site-packages/ipykernel_launcher.py:4: DataConversionWarning: A column-vector y was passed when a 1d array was expected. Please change the shape of y to (n_samples,), for example using ravel().\n",
      "  after removing the cwd from sys.path.\n"
     ]
    },
    {
     "data": {
      "text/plain": [
       "RandomForestClassifier(bootstrap=True, class_weight=None, criterion='entropy',\n",
       "            max_depth=32, max_features='auto', max_leaf_nodes=None,\n",
       "            min_impurity_decrease=0.0, min_impurity_split=None,\n",
       "            min_samples_leaf=1, min_samples_split=2,\n",
       "            min_weight_fraction_leaf=0.0, n_estimators=20, n_jobs=None,\n",
       "            oob_score=False, random_state=2, verbose=0, warm_start=False)"
      ]
     },
     "execution_count": 33,
     "metadata": {},
     "output_type": "execute_result"
    }
   ],
   "source": [
    "from sklearn.ensemble import RandomForestClassifier\n",
    "from sklearn.metrics import classification_report, average_precision_score, roc_auc_score, \\\n",
    "                            cohen_kappa_score, confusion_matrix\n",
    "rf = RandomForestClassifier(n_estimators=20, max_depth=32, criterion='entropy', random_state=2)\n",
    "rf.fit(Xtrain, ohe.inverse_transform(Ytrain))"
   ]
  },
  {
   "cell_type": "code",
   "execution_count": 34,
   "metadata": {},
   "outputs": [
    {
     "name": "stdout",
     "output_type": "stream",
     "text": [
      "[[787   0   2   0   0   1   6   0   4   0]\n",
      " [  0 907   5   3   0   1   1   0   2   1]\n",
      " [  4   4 792   6   2   1   4   6   2   1]\n",
      " [  0   0  12 798   0  10   3   2  12   2]\n",
      " [  2   3   1   0 793   0   5   1   2  17]\n",
      " [  6   1   0  18   1 748  12   0   5   4]\n",
      " [  6   0   3   0   2  11 807   0   3   0]\n",
      " [  0   5  11   0  10   0   0 868   0  14]\n",
      " [  4   4  10  15   6   9   6   2 732  13]\n",
      " [  6   4   4  12  19   6   1   9   6 792]]\n",
      "              precision    recall  f1-score   support\n",
      "\n",
      "           0       0.97      0.98      0.97       800\n",
      "           1       0.98      0.99      0.98       920\n",
      "           2       0.94      0.96      0.95       822\n",
      "           3       0.94      0.95      0.94       839\n",
      "           4       0.95      0.96      0.96       824\n",
      "           5       0.95      0.94      0.95       795\n",
      "           6       0.96      0.97      0.96       832\n",
      "           7       0.98      0.96      0.97       908\n",
      "           8       0.95      0.91      0.93       801\n",
      "           9       0.94      0.92      0.93       859\n",
      "\n",
      "   micro avg       0.96      0.96      0.96      8400\n",
      "   macro avg       0.95      0.95      0.95      8400\n",
      "weighted avg       0.96      0.96      0.96      8400\n",
      "\n"
     ]
    }
   ],
   "source": [
    "Ypred = rf.predict(Xtest)\n",
    "Ytest_ = ohe.inverse_transform(Ytest)\n",
    "#Ypred_ = ohe.inverse_transform(Ypred)\n",
    "print(confusion_matrix(Ytest_, Ypred))\n",
    "print(classification_report(Ytest_, Ypred))"
   ]
  },
  {
   "cell_type": "markdown",
   "metadata": {},
   "source": [
    "from sklearn.ensemble import RandomForestClassifier\n",
    "from sklearn.metrics import classification_report, average_precision_score, roc_auc_score, \\\n",
    "                            cohen_kappa_score, confusion_matrix\n",
    "rf = RandomForestClassifier(n_estimators=20, max_depth=32, criterion='entropy', random_state=2)\n",
    "rf.fit(Xtrain, ohe.inverse_transform Ytrain)"
   ]
  },
  {
   "cell_type": "markdown",
   "metadata": {},
   "source": [
    "### XGBoost"
   ]
  },
  {
   "cell_type": "code",
   "execution_count": 31,
   "metadata": {},
   "outputs": [],
   "source": [
    "import xgboost as xgb\n",
    "dtrain = xgb.DMatrix(data=Xtrain, label=ohe.inverse_transform(Ytrain))\n",
    "params = {\n",
    "    'max_depth': 32,\n",
    "    'objective': 'multi:softmax',  # error evaluation for multiclass training\n",
    "    'num_class': 10,\n",
    "    'n_gpus': 0\n",
    "}\n",
    "xgbt = xgb.train(params, dtrain)"
   ]
  },
  {
   "cell_type": "code",
   "execution_count": 32,
   "metadata": {},
   "outputs": [
    {
     "name": "stdout",
     "output_type": "stream",
     "text": [
      "[[780   0   1   2   1   3   3   0   6   4]\n",
      " [  0 904   3   4   2   0   3   1   3   0]\n",
      " [  6   4 789   6   2   0   3   7   4   1]\n",
      " [  1   3  16 790   1   7   1   5   7   8]\n",
      " [  2   3   1   0 785   1   3   1   4  24]\n",
      " [  2   0   2   8   2 755  10   4   7   5]\n",
      " [  6   1   0   0   4   9 802   0  10   0]\n",
      " [  0   8  10   3   2   0   1 864   3  17]\n",
      " [  4   5   7  10   2   9   7   1 743  13]\n",
      " [  5   2   3   9   6   6   0  10   7 811]]\n",
      "              precision    recall  f1-score   support\n",
      "\n",
      "           0       0.97      0.97      0.97       800\n",
      "           1       0.97      0.98      0.98       920\n",
      "           2       0.95      0.96      0.95       822\n",
      "           3       0.95      0.94      0.95       839\n",
      "           4       0.97      0.95      0.96       824\n",
      "           5       0.96      0.95      0.95       795\n",
      "           6       0.96      0.96      0.96       832\n",
      "           7       0.97      0.95      0.96       908\n",
      "           8       0.94      0.93      0.93       801\n",
      "           9       0.92      0.94      0.93       859\n",
      "\n",
      "   micro avg       0.96      0.96      0.96      8400\n",
      "   macro avg       0.96      0.95      0.95      8400\n",
      "weighted avg       0.96      0.96      0.96      8400\n",
      "\n"
     ]
    }
   ],
   "source": [
    "Ypred = xgbt.predict(xgb.DMatrix(data=Xtest))\n",
    "Ytest_ = ohe.inverse_transform(Ytest)\n",
    "print(confusion_matrix(Ytest_, Ypred))\n",
    "print(classification_report(Ytest_, Ypred))"
   ]
  },
  {
   "cell_type": "markdown",
   "metadata": {},
   "source": [
    "### Neural Networks"
   ]
  },
  {
   "cell_type": "code",
   "execution_count": 7,
   "metadata": {},
   "outputs": [],
   "source": [
    "# Hyper-parameters\n",
    "epochs = 10             # Total number of training epochs\n",
    "batch_size = 200         # Training batch size\n",
    "display_freq = 100      # Frequency of displaying the training results\n",
    "learning_rate = 0.001   # The optimization initial learning rate\n",
    "\n",
    "# Network Parameters\n",
    "n_hidden_1 = 400 # 1st layer number of neurons\n",
    "n_hidden_2 = 150 # 2nd layer number of neurons\n",
    "n_hidden_3 = 32\n",
    "n_input = 784 # MNIST data input (img shape: 28*28)\n",
    "n_class = 10 # MNIST total classes (0-9 digits)"
   ]
  },
  {
   "cell_type": "code",
   "execution_count": 8,
   "metadata": {},
   "outputs": [
    {
     "name": "stdout",
     "output_type": "stream",
     "text": [
      "WARNING:tensorflow:From /usr/local/lib/python3.6/site-packages/tensorflow/python/framework/op_def_library.py:263: colocate_with (from tensorflow.python.framework.ops) is deprecated and will be removed in a future version.\n",
      "Instructions for updating:\n",
      "Colocations handled automatically by placer.\n"
     ]
    }
   ],
   "source": [
    "# Input and Output\n",
    "X = tf.placeholder(tf.float32, shape=[None, n_input], name='X')\n",
    "Y = tf.placeholder(tf.float32, shape=[None, n_class], name='Y')\n",
    "\n",
    "# Create the NN Structure\n",
    "W1 = tf.Variable(tf.random_normal([n_input, n_hidden_1], stddev=0.35, seed=1), name=\"W1\")\n",
    "b1 = tf.Variable(tf.zeros([n_hidden_1]), name=\"B1\")\n",
    "l1 = tf.nn.relu(tf.matmul(X, W1) + b1)\n",
    "\n",
    "W2 = tf.Variable(tf.random_normal([n_hidden_1, n_hidden_2], stddev=0.35, seed=2), name=\"W2\")\n",
    "b2 = tf.Variable(tf.zeros([n_hidden_2]), name=\"B2\")\n",
    "l2 = tf.nn.relu(tf.matmul(l1, W2) + b2)\n",
    "\n",
    "# W3 = tf.Variable(tf.random_normal([n_hidden_2, n_hidden_3], stddev=0.35, seed=16), name=\"W3\")\n",
    "# b3 = tf.Variable(tf.zeros([n_hidden_3]), name=\"B3\")\n",
    "# l3 = tf.nn.sigmoid(tf.matmul(l2, W3) + b3)\n",
    "\n",
    "W4 = tf.Variable(tf.random_normal([n_hidden_2, n_class], stddev=0.35, seed=3), name=\"W4\")\n",
    "b4 = tf.Variable(tf.zeros([n_class]), name=\"B4\")\n",
    "output = tf.matmul(l2, W4) + b4\n",
    "\n",
    "# Minimize error using cross entropy\n",
    "cost = tf.reduce_mean(tf.nn.softmax_cross_entropy_with_logits_v2(logits=output, labels=Y, name='cost'))\n",
    "optimizer = tf.train.AdamOptimizer(learning_rate=learning_rate).minimize(cost)\n",
    "\n",
    "accuracy = tf.reduce_mean(tf.cast(tf.equal(tf.argmax(output, 1), tf.argmax(Y, 1)), tf.float32), name='accuracy')\n",
    "\n",
    "# Initialize the variables (i.e. assign their default value)\n",
    "init = tf.global_variables_initializer()"
   ]
  },
  {
   "cell_type": "code",
   "execution_count": 9,
   "metadata": {},
   "outputs": [
    {
     "name": "stdout",
     "output_type": "stream",
     "text": [
      "Training epoch: 1\n",
      "Epoch: 1, training loss: 457.01, training accuracy: 86.0%\n",
      "Epoch: 1, validation loss: 446.49, validation accuracy: 87.2%\n",
      "---------------------------------------------------------\n",
      "Training epoch: 2\n",
      "Epoch: 2, training loss: 215.97, training accuracy: 92.0%\n",
      "Epoch: 2, validation loss: 291.55, validation accuracy: 90.1%\n",
      "---------------------------------------------------------\n",
      "Training epoch: 3\n",
      "Epoch: 3, training loss: 111.54, training accuracy: 95.0%\n",
      "Epoch: 3, validation loss: 233.45, validation accuracy: 91.2%\n",
      "---------------------------------------------------------\n",
      "Training epoch: 4\n",
      "Epoch: 4, training loss: 58.57, training accuracy: 96.0%\n",
      "Epoch: 4, validation loss: 204.90, validation accuracy: 91.9%\n",
      "---------------------------------------------------------\n",
      "Training epoch: 5\n",
      "Epoch: 5, training loss: 29.28, training accuracy: 98.0%\n",
      "Epoch: 5, validation loss: 183.67, validation accuracy: 92.3%\n",
      "---------------------------------------------------------\n",
      "Training epoch: 6\n",
      "Epoch: 6, training loss: 23.08, training accuracy: 98.5%\n",
      "Epoch: 6, validation loss: 175.75, validation accuracy: 92.6%\n",
      "---------------------------------------------------------\n",
      "Training epoch: 7\n",
      "Epoch: 7, training loss: 12.12, training accuracy: 97.5%\n",
      "Epoch: 7, validation loss: 176.06, validation accuracy: 92.5%\n",
      "---------------------------------------------------------\n",
      "Training epoch: 8\n",
      "Epoch: 8, training loss: 7.45, training accuracy: 99.0%\n",
      "Epoch: 8, validation loss: 161.08, validation accuracy: 93.0%\n",
      "---------------------------------------------------------\n",
      "Training epoch: 9\n",
      "Epoch: 9, training loss: 2.35, training accuracy: 99.0%\n",
      "Epoch: 9, validation loss: 164.92, validation accuracy: 93.1%\n",
      "---------------------------------------------------------\n",
      "Training epoch: 10\n",
      "Epoch: 10, training loss: 1.97, training accuracy: 99.5%\n",
      "Epoch: 10, validation loss: 153.08, validation accuracy: 93.4%\n",
      "---------------------------------------------------------\n"
     ]
    }
   ],
   "source": [
    "def next_batch(X_, Y_, random=False, indices=None, size=None):\n",
    "    if random:\n",
    "        indices = np.random.choice(X_.shape[0], size, replace=False)\n",
    "    return X_[indices], Y_[indices]\n",
    "    \n",
    "\n",
    "with tf.Session() as sess:\n",
    "    sess.run(init)\n",
    "    global_step = 0\n",
    "    # Number of training iterations in each epoch\n",
    "    num_tr_iter = len(Ytrain) // batch_size\n",
    "    for epoch in range(epochs):\n",
    "        print('Training epoch: {}'.format(epoch + 1))\n",
    "        for iteration in range(num_tr_iter):\n",
    "            global_step += 1\n",
    "            start = iteration * batch_size\n",
    "            end = min((iteration + 1) * batch_size, len(Ytrain))\n",
    "            x_batch, y_batch = next_batch(Xtrain, Ytrain, random=False, indices=range(start,end), size=batch_size)\n",
    "\n",
    "            # Run optimization op (backprop)\n",
    "            sess.run(optimizer, feed_dict={X: x_batch, Y: y_batch})\n",
    "\n",
    "#             if iteration % display_freq == 0:\n",
    "#                 # Calculate and display the batch loss and accuracy\n",
    "#                 cost_batch, acc_batch = sess.run([cost, accuracy], feed_dict={X: x_batch, Y: y_batch})\n",
    "#                 print(\"iter {0:3d}:\\t Loss={1:.2f},\\tTraining Accuracy={2:.01%}\".format(iteration, cost_batch, acc_batch))\n",
    "\n",
    "        # Run validation after every epoch\n",
    "        cost_train, acc_train = sess.run([cost, accuracy], feed_dict={X: x_batch, Y: y_batch})\n",
    "        cost_valid, acc_valid = sess.run([cost, accuracy], feed_dict={X: Xtest, Y: Ytest})     \n",
    "        print(\"Epoch: {0}, training loss: {1:.2f}, training accuracy: {2:.01%}\".format(epoch + 1, cost_train, acc_train))\n",
    "        print(\"Epoch: {0}, validation loss: {1:.2f}, validation accuracy: {2:.01%}\".format(epoch + 1, cost_valid, acc_valid))\n",
    "        print('---------------------------------------------------------')"
   ]
  },
  {
   "cell_type": "code",
   "execution_count": 10,
   "metadata": {},
   "outputs": [
    {
     "name": "stdout",
     "output_type": "stream",
     "text": [
      "WARNING:tensorflow:From /usr/local/lib/python3.6/site-packages/tensorflow/python/ops/math_ops.py:3066: to_int32 (from tensorflow.python.ops.math_ops) is deprecated and will be removed in a future version.\n",
      "Instructions for updating:\n",
      "Use tf.cast instead.\n"
     ]
    },
    {
     "name": "stderr",
     "output_type": "stream",
     "text": [
      "Using TensorFlow backend.\n"
     ]
    },
    {
     "name": "stdout",
     "output_type": "stream",
     "text": [
      "Train on 33600 samples, validate on 8400 samples\n",
      "Epoch 1/10\n",
      "33600/33600 [==============================] - 2s 45us/step - loss: 14.2436 - acc: 0.1162 - val_loss: 14.4602 - val_acc: 0.1029\n",
      "Epoch 2/10\n",
      "33600/33600 [==============================] - 1s 39us/step - loss: 13.6201 - acc: 0.1549 - val_loss: 12.0924 - val_acc: 0.2498\n",
      "Epoch 3/10\n",
      "33600/33600 [==============================] - 1s 41us/step - loss: 12.2322 - acc: 0.2410 - val_loss: 11.8506 - val_acc: 0.2648\n",
      "Epoch 4/10\n",
      "33600/33600 [==============================] - 1s 37us/step - loss: 12.5133 - acc: 0.2236 - val_loss: 12.5050 - val_acc: 0.2242\n",
      "Epoch 5/10\n",
      "33600/33600 [==============================] - 1s 37us/step - loss: 12.5697 - acc: 0.2201 - val_loss: 12.5050 - val_acc: 0.2242\n",
      "Epoch 6/10\n",
      "33600/33600 [==============================] - 1s 36us/step - loss: 12.5697 - acc: 0.2201 - val_loss: 12.5050 - val_acc: 0.2242\n",
      "Epoch 7/10\n",
      "33600/33600 [==============================] - 1s 36us/step - loss: 12.5697 - acc: 0.2201 - val_loss: 12.5050 - val_acc: 0.2242\n",
      "Epoch 8/10\n",
      "33600/33600 [==============================] - 1s 37us/step - loss: 12.5697 - acc: 0.2201 - val_loss: 12.5050 - val_acc: 0.2242\n",
      "Epoch 9/10\n",
      "33600/33600 [==============================] - 1s 37us/step - loss: 12.5697 - acc: 0.2201 - val_loss: 12.5050 - val_acc: 0.2242\n",
      "Epoch 10/10\n",
      "33600/33600 [==============================] - 1s 38us/step - loss: 12.5697 - acc: 0.2201 - val_loss: 12.5050 - val_acc: 0.2242\n"
     ]
    },
    {
     "data": {
      "text/plain": [
       "<keras.callbacks.History at 0x12e467908>"
      ]
     },
     "execution_count": 10,
     "metadata": {},
     "output_type": "execute_result"
    }
   ],
   "source": [
    "import keras\n",
    "\n",
    "## Create Model\n",
    "model = keras.Sequential()\n",
    "model.add(keras.layers.Dense(n_hidden_1, activation='relu', kernel_initializer=keras.initializers.RandomNormal(mean=0.0, stddev=0.35, seed=13), input_shape=(n_input,)))\n",
    "model.add(keras.layers.Dense(n_hidden_2, activation='relu', kernel_initializer=keras.initializers.RandomNormal(mean=0.0, stddev=0.35, seed=15)))\n",
    "model.add(keras.layers.Dense(n_class, activation=tf.nn.softmax, kernel_initializer=keras.initializers.RandomNormal(mean=0.0, stddev=0.35, seed=17)))\n",
    "\n",
    "model.compile(optimizer=keras.optimizers.Adam(lr=learning_rate), \n",
    "              loss='categorical_crossentropy',\n",
    "              metrics=['accuracy'])\n",
    "model.fit(Xtrain, Ytrain, validation_data=[Xtest, Ytest], batch_size=batch_size, epochs=epochs)"
   ]
  },
  {
   "cell_type": "code",
   "execution_count": null,
   "metadata": {},
   "outputs": [],
   "source": []
  }
 ],
 "metadata": {
  "kernelspec": {
   "display_name": "Python 3",
   "language": "python",
   "name": "python3"
  },
  "language_info": {
   "codemirror_mode": {
    "name": "ipython",
    "version": 3
   },
   "file_extension": ".py",
   "mimetype": "text/x-python",
   "name": "python",
   "nbconvert_exporter": "python",
   "pygments_lexer": "ipython3",
   "version": "3.6.4"
  }
 },
 "nbformat": 4,
 "nbformat_minor": 2
}
